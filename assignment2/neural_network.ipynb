{
 "cells": [
  {
   "cell_type": "markdown",
   "metadata": {
    "id": "O452YP5gcoTh"
   },
   "source": [
    "# Assignment 2\n",
    "\n",
    "In this assignment you will create a coordinate-based multilayer perceptron in numpy from scratch. For each input image coordinate $(x,y)$, the model predicts the associated color $(r,g,b)$.\n",
    "\n",
    "![Network diagram](https://user-images.githubusercontent.com/3310961/85066930-ad444580-b164-11ea-9cc0-17494679e71f.png)\n",
    "\n",
    "You will then compare the following input feature mappings $\\gamma (\\mathbf{v})$.\n",
    "\n",
    "- No mapping: $\\gamma(\\mathbf{v})= \\mathbf{v}$. \n",
    "\n",
    "- Basic mapping: $\\gamma(\\mathbf{v})=\\left[ \\cos(2 \\pi \\mathbf{v}),\\sin(2 \\pi \\mathbf{v}) \\right]^\\mathrm{T}$. \n",
    "\n",
    "- Gaussian Fourier feature mapping: $\\gamma(\\mathbf{v})= \\left[ \\cos(2 \\pi \\mathbf B \\mathbf{v}), \\sin(2 \\pi \\mathbf B \\mathbf{v}) \\right]^\\mathrm{T}$, \n",
    "where each entry in $\\mathbf B \\in \\mathbb R^{m \\times d}$ is sampled from $\\mathcal N(0,\\sigma^2)$.\n",
    "\n",
    "Some notes to help you with that:\n",
    "\n",
    "- You will implement the mappings in the helper functions `get_B_dict` and `input_mapping`. \n",
    "- The basic mapping can be considered a case where $\\mathbf B \\in \\mathbb R^{2 \\times 2}$ is the indentity matrix. \n",
    "- For this assignment, $d$ is 2 because the input coordinates in two dimensions. \n",
    "- You can experiment with $m$ and $\\sigma$ values e.g. $m=256$ and $\\sigma \\in \\{1, 10, 100\\}$.\n",
    "\n",
    "Source: https://bmild.github.io/fourfeat/ \n",
    "This assignment is inspired by and built off of the authors' demo. "
   ]
  },
  {
   "cell_type": "markdown",
   "metadata": {
    "id": "g1PrabcYcszP"
   },
   "source": [
    "## Setup"
   ]
  },
  {
   "cell_type": "markdown",
   "metadata": {
    "id": "EfPlwYF07wB_"
   },
   "source": [
    "### Imports"
   ]
  },
  {
   "cell_type": "code",
   "execution_count": 1,
   "metadata": {
    "id": "5CKY4Fdna2Y-"
   },
   "outputs": [],
   "source": [
    "import matplotlib.pyplot as plt\n",
    "from tqdm.notebook import tqdm\n",
    "import os, imageio\n",
    "import cv2\n",
    "import numpy as np\n",
    "\n",
    "# imports /content/assignment2/models/neural_net.py if you mounted correctly \n",
    "from models.neural_net import NeuralNetwork\n",
    "\n",
    "# makes sure your NeuralNetwork updates as you make changes to the .py file\n",
    "%load_ext autoreload\n",
    "%autoreload 2\n",
    "\n",
    "# sets default size of plots\n",
    "%matplotlib inline\n",
    "plt.rcParams['figure.figsize'] = (10.0, 8.0)  "
   ]
  },
  {
   "cell_type": "markdown",
   "metadata": {
    "id": "MhqQzPGU7dls"
   },
   "source": [
    "## Helper Functions"
   ]
  },
  {
   "cell_type": "markdown",
   "metadata": {
    "id": "-XZiVy05or2V"
   },
   "source": [
    "### MSE Loss and PSNR Error (Fill in TODOs)"
   ]
  },
  {
   "cell_type": "code",
   "execution_count": 27,
   "metadata": {
    "id": "CdJbDPL9iOer"
   },
   "outputs": [],
   "source": [
    "def mse(y, p):\n",
    "    # TODO implement this\n",
    "    # make sure it is consistent with your implementation in neural_net.py\n",
    "    return np.square(np.subtract(y,p)).mean()\n",
    "\n",
    "\n",
    "def psnr(y, p):\n",
    "    # TODO implement this\n",
    "    return -10 * np.log10(2.*mse(y, p))"
   ]
  },
  {
   "cell_type": "markdown",
   "metadata": {
    "id": "jWYSuPu2mP8x"
   },
   "source": [
    "### Experiment Runner (Fill in TODOs)"
   ]
  },
  {
   "cell_type": "code",
   "execution_count": 28,
   "metadata": {
    "id": "tSdrQ0QR92tt"
   },
   "outputs": [],
   "source": [
    "def NN_experiment(X_train, y_train, X_test, y_test, input_size, num_layers,\\\n",
    "                  hidden_size, hidden_sizes, output_size, epochs,\\\n",
    "                  learning_rate, opt):\n",
    "\n",
    "    # Initialize a new neural network model\n",
    "    net = NeuralNetwork(input_size, hidden_sizes, output_size, num_layers, opt)\n",
    "\n",
    "    # Variables to store performance for each epoch\n",
    "    train_loss = np.zeros(epochs)\n",
    "    train_psnr = np.zeros(epochs)\n",
    "    test_psnr = np.zeros(epochs)\n",
    "    predicted_images = np.zeros((epochs, y_test.shape[0], y_test.shape[1]))\n",
    "\n",
    "    # For each epoch...\n",
    "    for epoch in tqdm(range(epochs)):\n",
    "\n",
    "        # Shuffle the dataset\n",
    "        # TODO implement this\n",
    "        indices = np.arange(X_train.shape[0])\n",
    "        np.random.shuffle(indices)\n",
    "        \n",
    "        X_shuffled = X_train[indices]\n",
    "        y_shuffled = y_train[indices]\n",
    "\n",
    "        # Training\n",
    "        # Run the forward pass of the model to get a prediction and record the psnr\n",
    "        # TODO implement this\n",
    "        prediction = net.forward(X_shuffled)\n",
    "        train_psnr[epoch] = psnr(prediction, y_train)\n",
    "        \n",
    "        # Run the backward pass of the model to compute the loss, record the loss, and update the weights\n",
    "        # TODO implement this\n",
    "        loss = net.backward(y_shuffled)\n",
    "        train_loss[epoch] = loss\n",
    "        net.update(lr=learning_rate, eps=epoch)\n",
    "        \n",
    "        # Testing\n",
    "        # No need to run the backward pass here, just run the forward pass to compute and record the psnr\n",
    "        # TODO implement this\n",
    "        prediction_test = net.forward(X_test)\n",
    "        test_psnr[epoch] = psnr(prediction_test, y_test)\n",
    "        \n",
    "    return net, train_psnr, test_psnr, train_loss, predicted_images"
   ]
  },
  {
   "cell_type": "markdown",
   "metadata": {
    "id": "F_D1y-kJ7eMk"
   },
   "source": [
    "### Image Data and Feature Mappings (Fill in TODOs)"
   ]
  },
  {
   "cell_type": "code",
   "execution_count": 3,
   "metadata": {
    "id": "xcvnzOICobu3"
   },
   "outputs": [],
   "source": [
    "# Data loader - already done for you\n",
    "def get_image(size=512, \\\n",
    "              image_url='https://bmild.github.io/fourfeat/img/lion_orig.png'):\n",
    "\n",
    "    # Download image, take a square crop from the center  \n",
    "    img = imageio.imread(image_url)[..., :3] / 255.\n",
    "    c = [img.shape[0]//2, img.shape[1]//2]\n",
    "    r = 256\n",
    "    img = img[c[0]-r:c[0]+r, c[1]-r:c[1]+r]\n",
    "\n",
    "    if size != 512:\n",
    "        img = cv2.resize(img, (size, size))\n",
    "\n",
    "        plt.imshow(img)\n",
    "        plt.show()\n",
    "\n",
    "        # Create input pixel coordinates in the unit square\n",
    "        coords = np.linspace(0, 1, img.shape[0], endpoint=False)\n",
    "        x_test = np.stack(np.meshgrid(coords, coords), -1)\n",
    "        test_data = [x_test, img]\n",
    "        train_data = [x_test[::2, ::2], img[::2, ::2]]\n",
    "\n",
    "        return train_data, test_data"
   ]
  },
  {
   "cell_type": "code",
   "execution_count": 4,
   "metadata": {
    "id": "6YksepPb8Yyw"
   },
   "outputs": [],
   "source": [
    "# Create the mappings dictionary of matrix B -  you will implement this\n",
    "def get_B_dict():\n",
    "    B_dict = {}\n",
    "    B_dict['none'] = None\n",
    "\n",
    "    # add B matrix for basic, gauss_1.0, gauss_10.0, gauss_100.0\n",
    "    # TODO implement this\n",
    "    mapping_size = 256\n",
    "\n",
    "    # Basic mapping\n",
    "    B_dict['basic'] = np.eye(2)\n",
    "    # Three different scales of Gaussian Fourier feature mappings\n",
    "    B_gauss = np.random.normal(mapping_size, 2)\n",
    "    for scale in [1., 10., 100.]:\n",
    "        B_dict[f'gauss_{scale}'] = B_gauss * scale\n",
    "\n",
    "    return B_dict"
   ]
  },
  {
   "cell_type": "code",
   "execution_count": 5,
   "metadata": {
    "id": "B_9mubvp8aY1"
   },
   "outputs": [],
   "source": [
    "# Given tensor x of input coordinates, map it using B - you will implement\n",
    "def input_mapping(x, B):\n",
    "    if B is None:\n",
    "        # \"none\" mapping - just returns the original input coordinates\n",
    "        return x\n",
    "    else:\n",
    "        # \"basic\" mapping and \"gauss_X\" mappings project input features using B\n",
    "        # TODO implement this\n",
    "        x_proj = (2.*np.pi*x) @ B.T\n",
    "        return np.concatenate([np.sin(x_proj), np.cos(x_proj)], axis=-1)\n",
    "    "
   ]
  },
  {
   "cell_type": "code",
   "execution_count": 6,
   "metadata": {
    "id": "UBGd4KfYjJ14"
   },
   "outputs": [],
   "source": [
    "# Apply the input feature mapping to the train and test data - already done for you\n",
    "def get_input_features(B_dict, mapping):\n",
    "    # mapping is the key to the B_dict, which has the value of B\n",
    "    # B is then used with the function `input_mapping` to map x  \n",
    "    y_train = train_data[1].reshape(-1, output_size)\n",
    "    y_test = test_data[1].reshape(-1, output_size)\n",
    "    X_train = input_mapping(train_data[0].reshape(-1, 2), B_dict[mapping])\n",
    "    X_test = input_mapping(test_data[0].reshape(-1, 2), B_dict[mapping])\n",
    "    return X_train, y_train, X_test, y_test"
   ]
  },
  {
   "cell_type": "markdown",
   "metadata": {
    "id": "yeXQlG8T7ZzD"
   },
   "source": [
    "### Plotting"
   ]
  },
  {
   "cell_type": "code",
   "execution_count": 8,
   "metadata": {
    "id": "3SniGS2aA_Ic"
   },
   "outputs": [],
   "source": [
    "def plot_training_curves(train_loss, train_psnr, test_psnr):\n",
    "    # plot the training loss\n",
    "    plt.subplot(2, 1, 1)\n",
    "    plt.plot(train_loss)\n",
    "    plt.title('MSE history')\n",
    "    plt.xlabel('Iteration')\n",
    "    plt.ylabel('MSE Loss')\n",
    "\n",
    "    # plot the training and testing psnr\n",
    "    plt.subplot(2, 1, 2)\n",
    "    plt.plot(train_psnr, label='train')\n",
    "    plt.plot(test_psnr, label='test')\n",
    "    plt.title('PSNR history')\n",
    "    plt.xlabel('Iteration')\n",
    "    plt.ylabel('PSNR')\n",
    "    plt.legend()\n",
    "\n",
    "    plt.tight_layout()\n",
    "    plt.show()"
   ]
  },
  {
   "cell_type": "code",
   "execution_count": 30,
   "metadata": {
    "id": "GXY0gCikFAup"
   },
   "outputs": [],
   "source": [
    "def plot_reconstruction(p, y):\n",
    "    p_im = p.reshape(size,size,3)\n",
    "    y_im = y.reshape(size,size,3)\n",
    "\n",
    "    plt.figure(figsize=(12,6))\n",
    "\n",
    "    # plot the reconstruction of the image\n",
    "    plt.subplot(1,2,1), plt.imshow(p_im), plt.title(\"reconstruction\")\n",
    "\n",
    "    # plot the ground truth image\n",
    "    plt.subplot(1,2,2), plt.imshow(y_im), plt.title(\"ground truth\")\n",
    "\n",
    "    print(\"Final Test MSE\", mse(y, p))\n",
    "    print(\"Final Test psnr\",psnr(y, p))"
   ]
  },
  {
   "cell_type": "code",
   "execution_count": 32,
   "metadata": {
    "id": "VcYZUf9RE-2a"
   },
   "outputs": [],
   "source": [
    "def plot_reconstruction_progress(predicted_images, y, N=8):\n",
    "    total = len(predicted_images)\n",
    "    step = total // N\n",
    "    plt.figure(figsize=(24, 4))\n",
    "\n",
    "    # plot the progress of reconstructions\n",
    "    for i, j in enumerate(range(0,total, step)):\n",
    "        plt.subplot(1, N, i+1)\n",
    "        plt.imshow(predicted_images[j].reshape(size,size,3))\n",
    "        plt.axis(\"off\")\n",
    "        plt.title(f\"iter {j}\")\n",
    "\n",
    "    # plot ground truth image\n",
    "    plt.subplot(1, N+1, N+1)\n",
    "    plt.imshow(y.reshape(size,size,3))\n",
    "    plt.title('GT')\n",
    "    plt.axis(\"off\")\n",
    "    plt.show()"
   ]
  },
  {
   "cell_type": "code",
   "execution_count": 11,
   "metadata": {
    "id": "C3r5qSy3E9jy"
   },
   "outputs": [],
   "source": [
    "def plot_feature_mapping_comparison(outputs, gt):\n",
    "    # plot reconstruction images for each mapping\n",
    "    plt.figure(figsize=(24, 4))\n",
    "    N = len(outputs)\n",
    "    for i, k in enumerate(outputs):\n",
    "        plt.subplot(1, N+1, i+1)\n",
    "        plt.imshow(outputs[k]['pred_imgs'][-1].reshape(size, size, -1))\n",
    "        plt.title(k)\n",
    "    plt.subplot(1, N+1, N+1)\n",
    "    plt.imshow(gt)\n",
    "    plt.title('GT')\n",
    "    plt.show()\n",
    "\n",
    "    # plot train/test error curves for each mapping\n",
    "    iters = len(outputs[k]['train_psnrs'])\n",
    "    plt.figure(figsize=(16, 6))\n",
    "    plt.subplot(121)\n",
    "    for i, k in enumerate(outputs):\n",
    "        plt.plot(range(iters), outputs[k]['train_psnrs'], label=k)\n",
    "    plt.title('Train error')\n",
    "    plt.ylabel('PSNR')\n",
    "    plt.xlabel('Training iter')\n",
    "    plt.legend()\n",
    "    plt.subplot(122)\n",
    "    for i, k in enumerate(outputs):\n",
    "        plt.plot(range(iters), outputs[k]['test_psnrs'], label=k)\n",
    "    plt.title('Test error')\n",
    "    plt.ylabel('PSNR')\n",
    "    plt.xlabel('Training iter')\n",
    "    plt.legend()\n",
    "    plt.show()"
   ]
  },
  {
   "cell_type": "markdown",
   "metadata": {
    "id": "32nZKUI87j1U"
   },
   "source": [
    "# Low Resolution Reconstruction"
   ]
  },
  {
   "cell_type": "code",
   "execution_count": 13,
   "metadata": {
    "id": "uFU-rPCFn9mN",
    "scrolled": false
   },
   "outputs": [
    {
     "name": "stderr",
     "output_type": "stream",
     "text": [
      "C:\\Users\\kilob\\AppData\\Local\\Temp\\ipykernel_22316\\1633739379.py:6: DeprecationWarning: Starting with ImageIO v3 the behavior of this function will switch to that of iio.v3.imread. To keep the current behavior (and make this warning disappear) use `import imageio.v2 as imageio` or call `imageio.v2.imread` directly.\n",
      "  img = imageio.imread(image_url)[..., :3] / 255.\n"
     ]
    },
    {
     "data": {
      "image/png": "[encoded data removed]",
      "text/plain": [
       "<Figure size 1000x800 with 1 Axes>"
      ]
     },
     "metadata": {},
     "output_type": "display_data"
    }
   ],
   "source": [
    "size = 32\n",
    "train_data, test_data = get_image(size)"
   ]
  },
  {
   "cell_type": "code",
   "execution_count": 15,
   "metadata": {},
   "outputs": [
    {
     "data": {
      "text/plain": [
       "(16, 16, 2)"
      ]
     },
     "execution_count": 15,
     "metadata": {},
     "output_type": "execute_result"
    }
   ],
   "source": [
    "train_data[0].shape"
   ]
  },
  {
   "cell_type": "code",
   "execution_count": 16,
   "metadata": {},
   "outputs": [
    {
     "data": {
      "text/plain": [
       "(16, 16, 3)"
      ]
     },
     "execution_count": 16,
     "metadata": {},
     "output_type": "execute_result"
    }
   ],
   "source": [
    "train_data[1].shape"
   ]
  },
  {
   "cell_type": "markdown",
   "metadata": {
    "id": "csKDsiLaALNs"
   },
   "source": [
    "Some suggested hyperparameter choices to help you start\n",
    "- hidden layer count: 4\n",
    "- hidden layer size: 256\n",
    "- number of epochs: 1000\n",
    "- learning reate: 1e-4\n"
   ]
  },
  {
   "cell_type": "markdown",
   "metadata": {
    "id": "63CMVVY9pCYy"
   },
   "source": [
    "#### Low Resolution Reconstruction - SGD - None Mapping"
   ]
  },
  {
   "cell_type": "code",
   "execution_count": 36,
   "metadata": {
    "id": "RDcWCccppJHg"
   },
   "outputs": [
    {
     "data": {
      "application/vnd.jupyter.widget-view+json": {
       "model_id": "e8d23f22a3294b4bb6900d46e36741c4",
       "version_major": 2,
       "version_minor": 0
      },
      "text/plain": [
       "  0%|          | 0/1000 [00:00<?, ?it/s]"
      ]
     },
     "metadata": {},
     "output_type": "display_data"
    },
    {
     "data": {
      "image/png": "[encoded data removed]",
      "text/plain": [
       "<Figure size 1000x800 with 2 Axes>"
      ]
     },
     "metadata": {},
     "output_type": "display_data"
    },
    {
     "name": "stdout",
     "output_type": "stream",
     "text": [
      "Final Test MSE 0.054001550886845974\n",
      "Final Test psnr 9.665637716995809\n"
     ]
    },
    {
     "name": "stderr",
     "output_type": "stream",
     "text": [
      "C:\\Users\\kilob\\AppData\\Local\\Temp\\ipykernel_22316\\4250824079.py:14: MatplotlibDeprecationWarning: Auto-removal of overlapping axes is deprecated since 3.6 and will be removed two minor releases later; explicitly call ax.remove() as needed.\n",
      "  plt.subplot(1, N+1, N+1)\n"
     ]
    },
    {
     "data": {
      "image/png": "[encoded data removed]",
      "text/plain": [
       "<Figure size 1200x600 with 2 Axes>"
      ]
     },
     "metadata": {},
     "output_type": "display_data"
    },
    {
     "data": {
      "image/png": "[encoded data removed]",
      "text/plain": [
       "<Figure size 2400x400 with 8 Axes>"
      ]
     },
     "metadata": {},
     "output_type": "display_data"
    }
   ],
   "source": [
    "input_size = X_train.shape[1]\n",
    "# num_layers = 5\n",
    "# hidden_size = 4\n",
    "# hidden_sizes = [256, 256, 256, 256]\n",
    "num_layers = 20\n",
    "hidden_size = 19\n",
    "hidden_sizes = [512] * 19\n",
    "output_size = 3\n",
    "epochs = 1000\n",
    "learning_rate = 0.0001\n",
    "opt = \"SGD\"\n",
    "\n",
    "\n",
    "# get input features\n",
    "# TODO implement this by using the get_B_dict() and get_input_features() helper functions\n",
    "B_dict = get_B_dict()\n",
    "X_train, y_train, X_test, y_test = get_input_features(B_dict, \"none\")\n",
    "\n",
    "# run NN experiment on input features\n",
    "# TODO implement by using the NN_experiment() helper function\n",
    "net, train_psnr, test_psnr, train_loss, predicted_images = NN_experiment(X_train, y_train, X_test, y_test, input_size, num_layers,\\\n",
    "                  hidden_size, hidden_sizes, output_size, epochs,\\\n",
    "                  learning_rate, opt)\n",
    "\n",
    "\n",
    "# plot results of experiment\n",
    "plot_training_curves(train_loss, train_psnr, test_psnr)\n",
    "plot_reconstruction(net.forward(X_test), y_test)\n",
    "plot_reconstruction_progress(predicted_images, y_test)"
   ]
  },
  {
   "cell_type": "markdown",
   "metadata": {
    "id": "gleWlEqDqzhi"
   },
   "source": [
    "#### Low Resolution Reconstruction - Adam - None Mapping"
   ]
  },
  {
   "cell_type": "code",
   "execution_count": null,
   "metadata": {
    "id": "RVwNEfLSq_Ug"
   },
   "outputs": [],
   "source": [
    "# get input features\n",
    "# TODO implement this by using the get_B_dict() and get_input_features() helper functions\n",
    "\n",
    "# run NN experiment on input features\n",
    "# TODO implement by using the NN_experiment() helper function\n",
    "\n",
    "# plot results of experiment\n",
    "plot_training_curves(train_loss, train_psnr, test_psnr)\n",
    "plot_reconstruction(net.forward(X_test), y_test)\n",
    "plot_reconstruction_progress(predicted_images, y_test)"
   ]
  },
  {
   "cell_type": "markdown",
   "metadata": {
    "id": "hvD5bj__qpjr"
   },
   "source": [
    "#### Low Resolution Reconstruction - Optimizer of your Choice - Various Input Mapping Stategies"
   ]
  },
  {
   "cell_type": "code",
   "execution_count": null,
   "metadata": {
    "id": "xJn8Dp8IrBYI"
   },
   "outputs": [],
   "source": [
    "def train_wrapper(mapping, size, opt):\n",
    "  # TODO implement\n",
    "  # makes it easy to run all your mapping experiments in a for loop\n",
    "  # this will similar to what you did previously in the last two sections\n",
    "  \n",
    "    return {\n",
    "      'net': net, \n",
    "      'train_psnrs': train_psnrs, \n",
    "      'test_psnrs': test_psnrs,\n",
    "      'train_loss': train_loss,\n",
    "      'pred_imgs': predicted_images\n",
    "    }\n",
    "\n"
   ]
  },
  {
   "cell_type": "code",
   "execution_count": null,
   "metadata": {
    "id": "3-8E-xZFCLr6"
   },
   "outputs": [],
   "source": [
    "outputs = {}\n",
    "for k in tqdm(B_dict):\n",
    "    print(\"training\", k)\n",
    "    outputs[k] = train_wrapper(k, size, opt)"
   ]
  },
  {
   "cell_type": "code",
   "execution_count": null,
   "metadata": {
    "id": "lHshB7AvvwKC"
   },
   "outputs": [],
   "source": [
    "# if you did everything correctly so far, this should output a nice figure you can use in your report\n",
    "plot_feature_mapping_comparison(outputs, y_test.reshape(size,size,3))"
   ]
  },
  {
   "cell_type": "markdown",
   "metadata": {
    "id": "R3Xp9T9GxmS8"
   },
   "source": [
    "# High Resolution Reconstruction"
   ]
  },
  {
   "cell_type": "markdown",
   "metadata": {
    "id": "PqiF7mqksn1M"
   },
   "source": [
    "#### High Resolution Reconstruction - Optimizer of your Choice - Various Input Mapping Stategies"
   ]
  },
  {
   "cell_type": "markdown",
   "metadata": {
    "id": "wCcGOG_tstpz"
   },
   "source": [
    "Repeat the previous experiment, but at the higher resolution. The reason why we have you first experiment with the lower resolution since it is faster to train and debug. Additionally, you will see how the mapping strategies perform better or worse at the two different input resolutions. "
   ]
  },
  {
   "cell_type": "code",
   "execution_count": null,
   "metadata": {
    "id": "aoXjcQ1Wxski"
   },
   "outputs": [],
   "source": [
    "size = 128\n",
    "train_data, test_data = get_image(size)"
   ]
  },
  {
   "cell_type": "code",
   "execution_count": null,
   "metadata": {
    "id": "A6xpU_WvskOh"
   },
   "outputs": [],
   "source": [
    "outputs = {}\n",
    "for k in tqdm(B_dict):\n",
    "    print(\"training\", k)\n",
    "    outputs[k] = train_wrapper(k, size,)"
   ]
  },
  {
   "cell_type": "markdown",
   "metadata": {
    "id": "BG2wNhrkvtFz"
   },
   "source": [
    "#### High Resolution Reconstruction - Image of your Choice"
   ]
  },
  {
   "cell_type": "markdown",
   "metadata": {
    "id": "c8fm-X0wxY6f"
   },
   "source": [
    "When choosing an image select one that you think will give you interesting results or a better insight into the performance of different feature mappings and explain why in your report template. "
   ]
  },
  {
   "cell_type": "code",
   "execution_count": null,
   "metadata": {
    "id": "-NLWTXXVvsZt"
   },
   "outputs": [],
   "source": [
    "size = 128\n",
    "# TODO pick an image and replace the url string\n",
    "train_data, test_data = get_image(size, image_url=\"YOUR URL HERE\")"
   ]
  },
  {
   "cell_type": "code",
   "execution_count": null,
   "metadata": {
    "id": "y4rA4SnRwH2u"
   },
   "outputs": [],
   "source": [
    "# get input features\n",
    "# TODO implement this by using the get_B_dict() and get_input_features() helper functions\n",
    "\n",
    "# run NN experiment on input features\n",
    "# TODO implement by using the NN_experiment() helper function\n",
    "\n",
    "plot_training_curves(train_loss, train_psnr, test_psnr)\n",
    "plot_reconstruction(net.forward(X_test), y_test)\n",
    "plot_reconstruction_progress(predicted_images, y_test)"
   ]
  },
  {
   "cell_type": "markdown",
   "metadata": {
    "id": "jCE0yV-ytIu3"
   },
   "source": [
    "# Reconstruction Process Video (Optional)\n",
    "(For Fun!) Visualize the progress of training in a video "
   ]
  },
  {
   "cell_type": "code",
   "execution_count": 14,
   "metadata": {
    "id": "k9c5MGtCE8Wf"
   },
   "outputs": [
    {
     "ename": "NameError",
     "evalue": "name 'epochs' is not defined",
     "output_type": "error",
     "traceback": [
      "\u001b[1;31m---------------------------------------------------------------------------\u001b[0m",
      "\u001b[1;31mNameError\u001b[0m                                 Traceback (most recent call last)",
      "Cell \u001b[1;32mIn[14], line 2\u001b[0m\n\u001b[0;32m      1\u001b[0m \u001b[38;5;66;03m# Save out video\u001b[39;00m\n\u001b[1;32m----> 2\u001b[0m \u001b[38;5;28;01mdef\u001b[39;00m \u001b[38;5;21mcreate_and_visualize_video\u001b[39m(outputs, size\u001b[38;5;241m=\u001b[39msize, epochs\u001b[38;5;241m=\u001b[39m\u001b[43mepochs\u001b[49m, filename\u001b[38;5;241m=\u001b[39m\u001b[38;5;124m'\u001b[39m\u001b[38;5;124mtraining_convergence.mp4\u001b[39m\u001b[38;5;124m'\u001b[39m):\n\u001b[0;32m      3\u001b[0m     all_preds \u001b[38;5;241m=\u001b[39m np\u001b[38;5;241m.\u001b[39mconcatenate([outputs[n][\u001b[38;5;124m'\u001b[39m\u001b[38;5;124mpred_imgs\u001b[39m\u001b[38;5;124m'\u001b[39m]\u001b[38;5;241m.\u001b[39mreshape(epochs,size,size,\u001b[38;5;241m3\u001b[39m)[::\u001b[38;5;241m25\u001b[39m] \u001b[38;5;28;01mfor\u001b[39;00m n \u001b[38;5;129;01min\u001b[39;00m outputs], axis\u001b[38;5;241m=\u001b[39m\u001b[38;5;241m-\u001b[39m\u001b[38;5;241m2\u001b[39m)\n\u001b[0;32m      4\u001b[0m     data8 \u001b[38;5;241m=\u001b[39m (\u001b[38;5;241m255\u001b[39m\u001b[38;5;241m*\u001b[39mnp\u001b[38;5;241m.\u001b[39mclip(all_preds, \u001b[38;5;241m0\u001b[39m, \u001b[38;5;241m1\u001b[39m))\u001b[38;5;241m.\u001b[39mastype(np\u001b[38;5;241m.\u001b[39muint8)\n",
      "\u001b[1;31mNameError\u001b[0m: name 'epochs' is not defined"
     ]
    }
   ],
   "source": [
    "# Save out video\n",
    "def create_and_visualize_video(outputs, size=size, epochs=epochs, filename='training_convergence.mp4'):\n",
    "    all_preds = np.concatenate([outputs[n]['pred_imgs'].reshape(epochs,size,size,3)[::25] for n in outputs], axis=-2)\n",
    "    data8 = (255*np.clip(all_preds, 0, 1)).astype(np.uint8)\n",
    "    f = os.path.join(filename)\n",
    "    imageio.mimwrite(f, data8, fps=20)\n",
    "\n",
    "  # Display video inline\n",
    "    from IPython.display import HTML\n",
    "    from base64 import b64encode\n",
    "    mp4 = open(f, 'rb').read()\n",
    "    data_url = \"data:video/mp4;base64,\" + b64encode(mp4).decode()\n",
    "\n",
    "    N = len(outputs)\n",
    "    if N == 1:\n",
    "        return HTML(f'''\n",
    "        <video width=256 controls autoplay loop>\n",
    "              <source src=\"{data_url}\" type=\"video/mp4\">\n",
    "        </video>\n",
    "        ''')\n",
    "    else:\n",
    "        return HTML(f'''\n",
    "        <video width=1000 controls autoplay loop>\n",
    "              <source src=\"{data_url}\" type=\"video/mp4\">\n",
    "        </video>\n",
    "        <table width=\"1000\" cellspacing=\"0\" cellpadding=\"0\">\n",
    "          <tr>{''.join(N*[f'<td width=\"{1000//len(outputs)}\"></td>'])}</tr>\n",
    "          <tr>{''.join(N*['<td style=\"text-align:center\">{}</td>'])}</tr>\n",
    "        </table>\n",
    "        '''.format(*list(outputs.keys())))"
   ]
  },
  {
   "cell_type": "code",
   "execution_count": null,
   "metadata": {
    "id": "NkDM58n_tlMe"
   },
   "outputs": [],
   "source": [
    "# requires installing this additional dependency\n",
    "!pip install imageio-ffmpeg"
   ]
  },
  {
   "cell_type": "code",
   "execution_count": null,
   "metadata": {
    "id": "ZKA5lnTED2a5"
   },
   "outputs": [],
   "source": [
    "# single video example\n",
    "create_and_visualize_video({\"gauss\": {\"pred_imgs\": predicted_images}}, filename=\"training_high_res_gauss.mp4\")"
   ]
  },
  {
   "cell_type": "code",
   "execution_count": null,
   "metadata": {
    "id": "ucNEYrqQvXsy"
   },
   "outputs": [],
   "source": [
    "# multi video example\n",
    "create_and_visualize_video(outputs, epochs=1000, size=32)"
   ]
  },
  {
   "cell_type": "code",
   "execution_count": null,
   "metadata": {
    "id": "v0pYTJVg5PBL"
   },
   "outputs": [],
   "source": []
  }
 ],
 "metadata": {
  "accelerator": "GPU",
  "colab": {
   "provenance": [
    {
     "file_id": "1BwVWCniWqdJ8uY3kEO45bDEKh4Sz33yr",
     "timestamp": 1676429175577
    },
    {
     "file_id": "1DAylBgQeNgfnhZZovWlZ-WTQbcBa1-OL",
     "timestamp": 1676420343251
    },
    {
     "file_id": "1JxUD-Tub-AyqVWKzTCQUfb2Y7VWNA7cn",
     "timestamp": 1675456427314
    },
    {
     "file_id": "https://github.com/tancik/fourier-feature-networks/blob/master/Demo.ipynb",
     "timestamp": 1675455979531
    }
   ]
  },
  "gpuClass": "standard",
  "kernelspec": {
   "display_name": "Python 3 (ipykernel)",
   "language": "python",
   "name": "python3"
  },
  "language_info": {
   "codemirror_mode": {
    "name": "ipython",
    "version": 3
   },
   "file_extension": ".py",
   "mimetype": "text/x-python",
   "name": "python",
   "nbconvert_exporter": "python",
   "pygments_lexer": "ipython3",
   "version": "3.9.16"
  },
  "vscode": {
   "interpreter": {
    "hash": "8ef14a750bb45c018324ac0fece7391260ac57ea293d4b9e36be86c8e7ac53c2"
   }
  }
 },
 "nbformat": 4,
 "nbformat_minor": 1
}
